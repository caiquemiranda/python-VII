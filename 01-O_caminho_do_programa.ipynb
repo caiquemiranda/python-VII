{
 "cells": [
  {
   "cell_type": "code",
   "execution_count": null,
   "metadata": {},
   "outputs": [],
   "source": [
    "# Versão da Linguagem Python\n",
    "from platform import python_version\n",
    "print('Versão de Python Neste Jupyter Notebook:', python_version())"
   ]
  },
  {
   "attachments": {},
   "cell_type": "markdown",
   "metadata": {},
   "source": [
    "### O caminho do programa"
   ]
  },
  {
   "attachments": {},
   "cell_type": "markdown",
   "metadata": {},
   "source": [
    "O objetivo é ensiná-lo a pensar como um cientista da computação. Essa maneira de pensar combina algumas das melhores características da matemática, engenharia e ciências naturais. Como os matemáticos, os cientistas da computação usam linguagens formais para denotar ideias (especificamente cálculos). Como engenheiros, eles projetam coisas, montando componentes em sistemas e avaliando compensações entre alternativas. Como cientistas, eles observam o comportamento de sistemas complexos, formulam hipóteses e testam previsões."
   ]
  },
  {
   "attachments": {},
   "cell_type": "markdown",
   "metadata": {},
   "source": [
    "A habilidade mais importante para um cientista da computação é a resolução de problemas. A resolução de problemas significa a capacidade de formular problemas, pensar criativamente sobre soluções e expressar uma solução de forma clara e precisa. Acontece que o processo de aprender a programar é uma excelente oportunidade para praticar as habilidades de resolução de problemas. É por isso que este capítulo é chamado de O caminho do programa."
   ]
  },
  {
   "attachments": {},
   "cell_type": "markdown",
   "metadata": {},
   "source": [
    "Em um nível, você aprenderá a programar, uma habilidade útil por si só. Em outro nível, você usará a programação como um meio para um fim. À medida que avançamos, esse fim ficará mais claro."
   ]
  },
  {
   "attachments": {},
   "cell_type": "markdown",
   "metadata": {},
   "source": [
    "#### A linguagem de programação Python"
   ]
  },
  {
   "attachments": {},
   "cell_type": "markdown",
   "metadata": {},
   "source": [
    "A linguagem de programação que você aprenderá é Python. Python é um exemplo de linguagem de alto nível; outras linguagens de alto nível das quais você já deve ter ouvido falar são C++, PHP, Pascal, C# e Java."
   ]
  },
  {
   "attachments": {},
   "cell_type": "markdown",
   "metadata": {},
   "source": [
    "Como você pode deduzir do nome linguagem de alto nível, também existem linguagens de baixo nível, às vezes chamadas de linguagens de máquina ou linguagens de montagem. Falando vagamente, os computadores só podem executar programas escritos em linguagens de baixo nível. Assim, programas escritos em uma linguagem de alto nível precisam ser traduzidos para algo mais adequado antes de serem executados."
   ]
  },
  {
   "attachments": {},
   "cell_type": "markdown",
   "metadata": {},
   "source": [
    "Quase todos os programas são escritos em linguagens de alto nível por causa de suas vantagens. É muito mais fácil programar em uma linguagem de alto nível, de modo que os programas levam menos tempo para serem escritos, são mais curtos e fáceis de ler e têm maior probabilidade de estarem corretos. Em segundo lugar, as linguagens de alto nível são portáteis, o que significa que podem ser executadas em diferentes tipos de computadores com poucas ou nenhuma modificação."
   ]
  },
  {
   "attachments": {},
   "cell_type": "markdown",
   "metadata": {},
   "source": [
    "O mecanismo que traduz e executa o Python é chamado de Python Interpreter: Há duas maneiras de usá-lo: modo imediato e modo de script. No modo imediato, você digita expressões Python na janela Python Interpreter e o interpretador mostra imediatamente o resultado:"
   ]
  },
  {
   "attachments": {},
   "cell_type": "markdown",
   "metadata": {},
   "source": [
    "O >>> é chamado de prompt do Python. O intérprete usa o prompt para indicar que está pronto para receber instruções. Digitamos 2 + 2 e o interpretador avaliou nossa expressão e respondeu 4, e na próxima linha deu um novo prompt, indicando que está pronto para mais entrada."
   ]
  },
  {
   "attachments": {},
   "cell_type": "markdown",
   "metadata": {},
   "source": [
    "Alternativamente, você pode escrever um programa em um arquivo e usar o interpretador para executar o conteúdo do arquivo. Esse arquivo é chamado de script. Os scripts têm a vantagem de poderem ser salvos em disco, impressos e assim por diante."
   ]
  },
  {
   "attachments": {},
   "cell_type": "markdown",
   "metadata": {},
   "source": [
    "Trabalhar diretamente no interpretador é conveniente para testar trechos curtos de código porque você obtém feedback imediato.Pense nisso como papel de rascunho usado para ajudá-lo a resolver problemas. Qualquer coisa maior do que algumas linhas deve ser colocada em um script."
   ]
  },
  {
   "attachments": {},
   "cell_type": "markdown",
   "metadata": {},
   "source": [
    "Quando você está escrevendo um script, você precisa de algo como um editor de texto. Com isso, queremos dizer um programa em seu computador que altera arquivos de texto, não algo que também faz layout como um processador de texto como o Microsoft Word ou o LibreOffice Writer. Alguns exemplos de editores de texto são Notepad, Notepad++, vim, emacs e sublime."
   ]
  },
  {
   "attachments": {},
   "cell_type": "markdown",
   "metadata": {},
   "source": [
    "Para Python (e muitas outras linguagens de programação) existem programas que incluem um editor de texto e uma forma de interagir com o interpretador. Chamamos esses ambientes de desenvolvimento (às vezes Ambiente de Desenvolvimento Integrado ou IDE). Para Python, eles podem incluir (entre muitos outros) Spyder, Thonny ou IDLE. Existem também ambientes de desenvolvimento que rodam no seu navegador. Um exemplo disso é o Jupyter Notebook."
   ]
  },
  {
   "attachments": {},
   "cell_type": "markdown",
   "metadata": {},
   "source": [
    "A escolha do ambiente de desenvolvimento é bastante pessoal, mas se você estiver seguindo um curso baseado neste livro, provavelmente o professor irá recomendar um. Essa recomendação é útil se você precisar de ajuda para usar o ambiente."
   ]
  },
  {
   "attachments": {},
   "cell_type": "markdown",
   "metadata": {},
   "source": [
    "O importante a lembrar é que o próprio Python não se importa em qual editor você escreve seu código. Contanto que você escreva a sintaxe correta (com as tabulações e espaços corretos), o Python pode executar seu programa. O editor está lá apenas para ajudá-lo."
   ]
  },
  {
   "cell_type": "markdown",
   "metadata": {},
   "source": []
  },
  {
   "cell_type": "markdown",
   "metadata": {},
   "source": []
  },
  {
   "cell_type": "code",
   "execution_count": null,
   "metadata": {},
   "outputs": [],
   "source": [
    "%reload_ext watermark\n",
    "%watermark -a \"Caique Miranda\" -gu \"caiquemiranda\" -iv"
   ]
  },
  {
   "attachments": {},
   "cell_type": "markdown",
   "metadata": {},
   "source": [
    "### End."
   ]
  }
 ],
 "metadata": {
  "language_info": {
   "name": "python"
  },
  "orig_nbformat": 4
 },
 "nbformat": 4,
 "nbformat_minor": 2
}
